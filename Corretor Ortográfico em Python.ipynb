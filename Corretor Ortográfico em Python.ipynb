{
 "cells": [
  {
   "cell_type": "markdown",
   "id": "2dd55bdc",
   "metadata": {},
   "source": [
    "# Criando um corretor ortográfico"
   ]
  },
  {
   "cell_type": "markdown",
   "id": "86eb7675",
   "metadata": {},
   "source": [
    "### Importando as bibliotecas:"
   ]
  },
  {
   "cell_type": "code",
   "execution_count": 1,
   "id": "2149fb6f",
   "metadata": {},
   "outputs": [
    {
     "name": "stderr",
     "output_type": "stream",
     "text": [
      "[nltk_data] Downloading package punkt to\n",
      "[nltk_data]     /Users/rafaelmaacario/nltk_data...\n",
      "[nltk_data]   Package punkt is already up-to-date!\n"
     ]
    },
    {
     "data": {
      "text/plain": [
       "True"
      ]
     },
     "execution_count": 1,
     "metadata": {},
     "output_type": "execute_result"
    }
   ],
   "source": [
    "import pandas as pd\n",
    "import nltk\n",
    "nltk.download('punkt')"
   ]
  },
  {
   "cell_type": "markdown",
   "id": "64b8fb52",
   "metadata": {},
   "source": [
    "## 1. Dados de treinamento"
   ]
  },
  {
   "cell_type": "markdown",
   "id": "e40b7684",
   "metadata": {},
   "source": [
    "### 1.1 Leitura do corpus de artigos da Alura:  "
   ]
  },
  {
   "cell_type": "code",
   "execution_count": 2,
   "id": "4225e748",
   "metadata": {},
   "outputs": [
    {
     "data": {
      "text/plain": [
       "'\\n\\n\\nimagem \\n\\nTemos a seguinte classe que representa um usuário no nosso sistema:\\n\\njava\\n\\nPara salvar um novo usuário, várias validações são feitas, como por exemplo: Ver se o nome só contém letras, [**o CPF só números**] e ver se o usuário possui no mínimo 18 anos. Veja o método que faz essa validação:\\n\\njava \\n\\nSuponha agora que eu tenha outra classe, a classe `Produto`, que contém um atributo nome e eu quero fazer a mesma validação que fiz para o nome do usuário: Ver se só contém letras. E aí? Vou'"
      ]
     },
     "execution_count": 2,
     "metadata": {},
     "output_type": "execute_result"
    }
   ],
   "source": [
    "file_path = \"/Users/rafaelmaacario/Corretor Ortográfico em Python/corretor-master/artigos.txt\"\n",
    "\n",
    "with open(file_path, \"r\") as file:\n",
    "    corpus = file.read()\n",
    "\n",
    "corpus[:500]"
   ]
  },
  {
   "cell_type": "markdown",
   "id": "d324e33e",
   "metadata": {},
   "source": [
    "### 1.2 Limpeza dos dados: "
   ]
  },
  {
   "cell_type": "code",
   "execution_count": 3,
   "id": "18be6284",
   "metadata": {},
   "outputs": [],
   "source": [
    "def tokenize(text):\n",
    "    list_tokens = nltk.word_tokenize(text)\n",
    "    return list_tokens\n",
    "\n",
    "def lista_palavras(list_tokens):\n",
    "    lista_palavras = [token.lower() for token in list_tokens if token.isalpha()]\n",
    "    return lista_palavras"
   ]
  },
  {
   "cell_type": "code",
   "execution_count": 4,
   "id": "7013778d",
   "metadata": {},
   "outputs": [
    {
     "name": "stdout",
     "output_type": "stream",
     "text": [
      "['imagem', 'temos', 'a', 'seguinte', 'classe', 'que', 'representa', 'um', 'usuário', 'no', 'nosso', 'sistema', 'java', 'para', 'salvar', 'um', 'novo', 'usuário', 'várias', 'validações', 'são', 'feitas', 'como', 'por', 'exemplo', 'ver', 'se', 'o', 'nome', 'só', 'contém', 'letras', 'o', 'cpf', 'só', 'números', 'e', 'ver', 'se', 'o', 'usuário', 'possui', 'no', 'mínimo', 'anos', 'veja', 'o', 'método', 'que', 'faz']\n"
     ]
    }
   ],
   "source": [
    "lista_palavras = lista_palavras(tokenize(corpus))\n",
    "print(lista_palavras[:50])"
   ]
  },
  {
   "cell_type": "code",
   "execution_count": 5,
   "id": "ad8df07d",
   "metadata": {},
   "outputs": [
    {
     "data": {
      "text/plain": [
       "[('de', 15502),\n",
       " ('o', 14056),\n",
       " ('que', 12230),\n",
       " ('a', 11099),\n",
       " ('e', 10501),\n",
       " ('para', 7710),\n",
       " ('um', 6367),\n",
       " ('é', 5899),\n",
       " ('uma', 5220),\n",
       " ('do', 5124)]"
      ]
     },
     "execution_count": 5,
     "metadata": {},
     "output_type": "execute_result"
    }
   ],
   "source": [
    "frequencia_palavras_corpus = nltk.FreqDist(lista_palavras)\n",
    "frequencia_palavras_corpus.most_common(10)"
   ]
  },
  {
   "cell_type": "code",
   "execution_count": 6,
   "id": "7aa4d7fb",
   "metadata": {},
   "outputs": [
    {
     "data": {
      "text/plain": [
       "403031"
      ]
     },
     "execution_count": 6,
     "metadata": {},
     "output_type": "execute_result"
    }
   ],
   "source": [
    "total_palavras = len(lista_palavras)\n",
    "total_palavras"
   ]
  },
  {
   "cell_type": "code",
   "execution_count": 7,
   "id": "cffcec50",
   "metadata": {},
   "outputs": [
    {
     "data": {
      "text/plain": [
       "18464"
      ]
     },
     "execution_count": 7,
     "metadata": {},
     "output_type": "execute_result"
    }
   ],
   "source": [
    "# Vocabulário real do corpus:\n",
    "    \n",
    "vocabulário = set(lista_palavras)\n",
    "len(vocabulário)"
   ]
  },
  {
   "cell_type": "markdown",
   "id": "782c8477",
   "metadata": {},
   "source": [
    "## 2. Funções de correção"
   ]
  },
  {
   "cell_type": "markdown",
   "id": "a1593020",
   "metadata": {},
   "source": [
    "### 2.1. Corrigindo erros por operações de inserção:"
   ]
  },
  {
   "cell_type": "raw",
   "id": "caf65a4a",
   "metadata": {},
   "source": [
    "Ex. Usuário esquece de digitar uma letra. "
   ]
  },
  {
   "cell_type": "code",
   "execution_count": 113,
   "id": "a51a2dd9",
   "metadata": {},
   "outputs": [
    {
     "data": {
      "text/plain": [
       "('c', 'mpo')"
      ]
     },
     "execution_count": 113,
     "metadata": {},
     "output_type": "execute_result"
    }
   ],
   "source": [
    "palavra = 'cmpo'\n",
    "\n",
    "(palavra[:1], palavra[1:])"
   ]
  },
  {
   "cell_type": "code",
   "execution_count": 114,
   "id": "71d2f627",
   "metadata": {},
   "outputs": [],
   "source": [
    "def corretor_por_insercao(palavra):\n",
    "    \n",
    "    # Dividir a palavra em tuplas:\n",
    "    tuplas = [(palavra[:i], palavra[i:]) for i in range(len(palavra) + 1)]\n",
    "        \n",
    "    # Inserir letras dentro das tuplas:\n",
    "    letras = 'abcdefghijklmnopqrstuvwxyzàáâãèéêìíîòóôõùúûç'\n",
    "    novas_palavras = [tupla_esq + letra + tupla_dir for tupla_esq, tupla_dir in tuplas for letra in letras]\n",
    "    \n",
    "    # Calcular a probabilidade de cada palavra gerada com base na lista de palavras do corpus:\n",
    "    probabilidade_palavras = [frequencia_palavras_corpus[palavra_gerada] / total_palavras for palavra_gerada in novas_palavras]\n",
    "    \n",
    "    # Encontrar a palavra correta de maior probabilidade:\n",
    "    palavra_correta = max(zip(novas_palavras, probabilidade_palavras), key=lambda x: x[1])[0]\n",
    "    \n",
    "    return [palavra_correta]"
   ]
  },
  {
   "cell_type": "code",
   "execution_count": 194,
   "id": "f8a4e5a7",
   "metadata": {},
   "outputs": [
    {
     "data": {
      "text/plain": [
       "['lógica']"
      ]
     },
     "execution_count": 194,
     "metadata": {},
     "output_type": "execute_result"
    }
   ],
   "source": [
    "corretor_por_insercao('lgica')"
   ]
  },
  {
   "cell_type": "markdown",
   "id": "32d13c5d",
   "metadata": {},
   "source": [
    "### 2.2. Corrigindo erros por operações de alternância de um termo: "
   ]
  },
  {
   "cell_type": "raw",
   "id": "1a0c498e",
   "metadata": {},
   "source": [
    "Ex: Usuário digita uma letra errada ou esquece um acento."
   ]
  },
  {
   "cell_type": "code",
   "execution_count": 116,
   "id": "7366735d",
   "metadata": {},
   "outputs": [],
   "source": [
    "def corretor_por_alterancia(palavra):\n",
    "    \n",
    "    # Dividir a palavra em tuplas removendo o primeiro caractere após a divisão:\n",
    "    tuplas = [(palavra[:i], palavra[i+1:]) for i in range(len(palavra) + 1)]\n",
    "    \n",
    "    # Inserir letras dentro das tuplas:\n",
    "    letras = 'abcdefghijklmnopqrstuvwxyzàáâãèéêìíîòóôõùúûç'\n",
    "    novas_palavras = [tupla_esq + letra + tupla_dir for tupla_esq, tupla_dir in tuplas for letra in letras]\n",
    "    \n",
    "    # Calcular a probabilidade de cada palavra gerada com base na lista de palavras do corpus:\n",
    "    probabilidade_palavras = [frequencia_palavras_corpus[palavra_gerada] / total_palavras for palavra_gerada in novas_palavras]\n",
    "    \n",
    "    # Encontrar a palavra correta de maior probabilidade:\n",
    "    palavra_correta = max(zip(novas_palavras, probabilidade_palavras), key=lambda x: x[1])[0]\n",
    "    \n",
    "    return [palavra_correta] "
   ]
  },
  {
   "cell_type": "code",
   "execution_count": 117,
   "id": "2a055c80",
   "metadata": {},
   "outputs": [
    {
     "data": {
      "text/plain": [
       "['lógica']"
      ]
     },
     "execution_count": 117,
     "metadata": {},
     "output_type": "execute_result"
    }
   ],
   "source": [
    "corretor_por_alterancia('lígica')"
   ]
  },
  {
   "cell_type": "markdown",
   "id": "d6c1eb3b",
   "metadata": {},
   "source": [
    "###  2.3. Corrigindo erros por operações que deletam até dois caracteres extras seguidos: "
   ]
  },
  {
   "cell_type": "raw",
   "id": "bb99f18b",
   "metadata": {},
   "source": [
    "Ex: Usuário digita uma letra por engano. "
   ]
  },
  {
   "cell_type": "code",
   "execution_count": 221,
   "id": "0bf4dea0",
   "metadata": {},
   "outputs": [],
   "source": [
    "def corretor_deleta_caracter_extra(palavra):\n",
    "    # Dividir a palavra em tuplas removendo o primeiro caracter após a divisão:\n",
    "    tuplas = [(palavra[:i], palavra[i+1:]) for i in range(len(palavra) + 1)]\n",
    "    \n",
    "    # Juntar a tupla\n",
    "    novas_palavras = [tupla_esq + tupla_dir for tupla_esq, tupla_dir in tuplas]\n",
    "    \n",
    "    # Calcular a probabilidade de cada palavra gerada com base na lista de ocorrência de palavras do corpus:\n",
    "    probabilidade_palavras = [frequencia_palavras_corpus[palavra_gerada] / total_palavras for palavra_gerada in novas_palavras]\n",
    "    \n",
    "    # Encontrar a palavra correta de maior probabilidade:\n",
    "    palavra_correta = max(zip(novas_palavras, probabilidade_palavras), key=lambda x: x[1])[0]\n",
    "    \n",
    "    return [palavra_correta] "
   ]
  },
  {
   "cell_type": "code",
   "execution_count": 222,
   "id": "61418685",
   "metadata": {},
   "outputs": [],
   "source": [
    "palavra = 'lóigica'"
   ]
  },
  {
   "cell_type": "code",
   "execution_count": 136,
   "id": "547824de",
   "metadata": {},
   "outputs": [
    {
     "data": {
      "text/plain": [
       "['lógica']"
      ]
     },
     "execution_count": 136,
     "metadata": {},
     "output_type": "execute_result"
    }
   ],
   "source": [
    "corretor_deleta_caracter_extra(palavra)"
   ]
  },
  {
   "cell_type": "code",
   "execution_count": 152,
   "id": "b030350d",
   "metadata": {},
   "outputs": [],
   "source": [
    "def corretor_deleta_dois_caracteres_extras_seguidos(palavra):\n",
    "    iteracao = 0\n",
    "    while True:\n",
    "        # Dividir a palavra em tuplas removendo até dois caracteres após a divisão:\n",
    "        tuplas = [(palavra[:i], palavra[i+min(iteracao, 2):]) for i in range(len(palavra) + 1)]\n",
    "\n",
    "        # Juntar as tuplas\n",
    "        novas_palavras = [tupla_esq + tupla_dir for tupla_esq, tupla_dir in tuplas]\n",
    "\n",
    "        # Encontrar candidatas a palavra correta:\n",
    "        candidatas = [palavra_gerada for palavra_gerada in novas_palavras]\n",
    "\n",
    "        if any(candidata in vocabulário for candidata in candidatas):\n",
    "            # Calcular a probabilidade apenas para as palavras no vocabulário:\n",
    "            probabilidade_palavras = [frequencia_palavras_corpus.get(palavra_gerada, 0) / total_palavras for palavra_gerada in candidatas]\n",
    "\n",
    "            # Encontrar a palavra correta de maior probabilidade:\n",
    "            palavra_correta = max(zip(candidatas, probabilidade_palavras), key=lambda x: x[1])[0]\n",
    "\n",
    "            return [palavra_correta]\n",
    "\n",
    "        iteracao += 1"
   ]
  },
  {
   "cell_type": "code",
   "execution_count": 153,
   "id": "16fc35a9",
   "metadata": {},
   "outputs": [
    {
     "data": {
      "text/plain": [
       "['dos']"
      ]
     },
     "execution_count": 153,
     "metadata": {},
     "output_type": "execute_result"
    }
   ],
   "source": [
    "corretor_deleta_dois_caracteres_extras_seguidos('dosss')"
   ]
  },
  {
   "cell_type": "code",
   "execution_count": 154,
   "id": "38ad7375",
   "metadata": {},
   "outputs": [
    {
     "data": {
      "text/plain": [
       "['dos']"
      ]
     },
     "execution_count": 154,
     "metadata": {},
     "output_type": "execute_result"
    }
   ],
   "source": [
    "corretor_deleta_dois_caracteres_extras_seguidos('dooos')"
   ]
  },
  {
   "cell_type": "markdown",
   "id": "35e6475d",
   "metadata": {},
   "source": [
    "###  2.4. Corrigindo erros por operações que invertem a ordem de dois caracteres: "
   ]
  },
  {
   "cell_type": "raw",
   "id": "57cb0ff1",
   "metadata": {},
   "source": [
    "Ex: Usuário digita a ordem de carcteres errado.  "
   ]
  },
  {
   "cell_type": "code",
   "execution_count": 223,
   "id": "5e06fdce",
   "metadata": {},
   "outputs": [],
   "source": [
    "def corretor_inverte_caracteres(palavra):\n",
    "    # Dividir a palavra em tuplas:\n",
    "    tuplas = [(palavra[:i], palavra[i:]) for i in range(len(palavra) + 1)]\n",
    "    \n",
    "    # Inserir letras dentro das tuplas:\n",
    "    novas_palavras = [tupla_esq + (tupla_dir[1] + tupla_dir[0] + tupla_dir[2:] if tupla_dir and len(tupla_dir) > 1 else '') for tupla_esq, tupla_dir in tuplas]\n",
    "\n",
    "    # Calcular a probabilidade de cada palavra gerada com base na lista de palavras do corpus:\n",
    "    probabilidade_palavras = [frequencia_palavras_corpus[palavra_gerada] / total_palavras for palavra_gerada in novas_palavras]\n",
    "    \n",
    "    # Encontrar a palavra correta de maior probabilidade:\n",
    "    palavra_correta = max(zip(novas_palavras, probabilidade_palavras), key=lambda x: x[1])[0]  \n",
    "    \n",
    "    return palavra_correta"
   ]
  },
  {
   "cell_type": "code",
   "execution_count": 245,
   "id": "b99fc0f1",
   "metadata": {},
   "outputs": [
    {
     "data": {
      "text/plain": [
       "'lógica'"
      ]
     },
     "execution_count": 245,
     "metadata": {},
     "output_type": "execute_result"
    }
   ],
   "source": [
    "corretor_inverte_caracteres('lgóica')"
   ]
  },
  {
   "cell_type": "markdown",
   "id": "f80a643a",
   "metadata": {},
   "source": [
    "## 3. Dados para teste "
   ]
  },
  {
   "cell_type": "code",
   "execution_count": 215,
   "id": "458274c4",
   "metadata": {},
   "outputs": [
    {
     "data": {
      "text/plain": [
       "186"
      ]
     },
     "execution_count": 215,
     "metadata": {},
     "output_type": "execute_result"
    }
   ],
   "source": [
    "test_path = \"/Users/rafaelmaacario/Corretor Ortográfico em Python/corretor-master/palavras.txt\"\n",
    "\n",
    "with open(test_path, \"r\") as f:\n",
    "    lista_palavras_teste = [tuple(linha.split()) for linha in f]\n",
    "\n",
    "f.close()\n",
    "len(lista_palavras_teste)"
   ]
  },
  {
   "cell_type": "markdown",
   "id": "a7dd540d",
   "metadata": {},
   "source": [
    "### 3.1 Função de avaliação do corretor: "
   ]
  },
  {
   "cell_type": "code",
   "execution_count": 158,
   "id": "920d336f",
   "metadata": {},
   "outputs": [],
   "source": [
    "import plotly.express as px"
   ]
  },
  {
   "cell_type": "code",
   "execution_count": 249,
   "id": "48727589",
   "metadata": {},
   "outputs": [
    {
     "name": "stdout",
     "output_type": "stream",
     "text": [
      "Acertos: 79.57% de 186 palavras.\n",
      "Desconhecidas: 6.99% de 186 palavras.\n"
     ]
    }
   ],
   "source": [
    "def avaliador(lista_palavras_teste, vocabulario):\n",
    "    numero_palavras = len(lista_palavras_teste)\n",
    "    acertos = 0\n",
    "    desconhecidas = 0\n",
    "\n",
    "    # Dicionário para guargar as correções:\n",
    "    contador_correcoes = {'Insercão': 0, 'Alternância': 0, 'DeletaCaracterExtra': 0, 'InverteCaracteres': 0}\n",
    "\n",
    "    for certa, errada in lista_palavras_teste:\n",
    "\n",
    "        palavra_corrigida = []\n",
    "        \n",
    "        palavra_corrigida.extend(corretor_por_insercao(errada))\n",
    "        palavra_corrigida.extend(corretor_por_alterancia(errada))\n",
    "        palavra_corrigida.extend(corretor_deleta_caracter_extra(errada))\n",
    "       # palavra_corrigida.extend(corretor_deleta_dois_caracteres_extras_seguidos(errada))\n",
    "        palavra_corrigida.extend(corretor_inverte_caracteres(errada))\n",
    "        \n",
    "        if certa in palavra_corrigida:\n",
    "            acertos += 1\n",
    "            while True:\n",
    "                if certa in palavra_corrigida[0]:\n",
    "                    contador_correcoes['Insercão'] += 1\n",
    "                    break\n",
    "                elif certa in palavra_corrigida[1]:\n",
    "                    contador_correcoes['Alternância'] += 1\n",
    "                    break\n",
    "                elif certa in palavra_corrigida[2]:\n",
    "                    contador_correcoes['DeletaCaracterExtra'] += 1\n",
    "                    break\n",
    "                else: \n",
    "                    contador_correcoes['InverteCaracteres'] += 1\n",
    "                    break\n",
    "        elif certa not in vocabulario:\n",
    "            desconhecidas += 1 \n",
    "\n",
    "    taxa_acertos = round(acertos * 100 / numero_palavras, 2)\n",
    "    taxa_desconhecida = round(desconhecidas * 100 / numero_palavras, 2)\n",
    "\n",
    "    print(f\"Acertos: {taxa_acertos}% de {numero_palavras} palavras.\\nDesconhecidas: {taxa_desconhecida}% de {numero_palavras} palavras.\")\n",
    "\n",
    "    # Retornar o dicionário de contagens de correções:\n",
    "    return contador_correcoes\n",
    "\n",
    "# Call the function and get correction counts\n",
    "contador_correcoes = avaliador(lista_palavras_teste, vocabulário)"
   ]
  },
  {
   "cell_type": "code",
   "execution_count": 246,
   "id": "150292ef",
   "metadata": {},
   "outputs": [
    {
     "data": {
      "application/vnd.plotly.v1+json": {
       "config": {
        "plotlyServerURL": "https://plot.ly"
       },
       "data": [
        {
         "alignmentgroup": "True",
         "hovertemplate": "Tipos de Correção=%{x}<br>Contagem=%{y}<extra></extra>",
         "legendgroup": "",
         "marker": {
          "color": "#636efa",
          "pattern": {
           "shape": ""
          }
         },
         "name": "",
         "offsetgroup": "",
         "orientation": "v",
         "showlegend": false,
         "textposition": "auto",
         "type": "bar",
         "x": [
          "Insercão",
          "Alternância",
          "DeletaCaracterExtra",
          "InverteCaracteres"
         ],
         "xaxis": "x",
         "y": [
          27,
          71,
          50,
          0
         ],
         "yaxis": "y"
        }
       ],
       "layout": {
        "barmode": "relative",
        "legend": {
         "tracegroupgap": 0
        },
        "template": {
         "data": {
          "bar": [
           {
            "error_x": {
             "color": "#2a3f5f"
            },
            "error_y": {
             "color": "#2a3f5f"
            },
            "marker": {
             "line": {
              "color": "#E5ECF6",
              "width": 0.5
             },
             "pattern": {
              "fillmode": "overlay",
              "size": 10,
              "solidity": 0.2
             }
            },
            "type": "bar"
           }
          ],
          "barpolar": [
           {
            "marker": {
             "line": {
              "color": "#E5ECF6",
              "width": 0.5
             },
             "pattern": {
              "fillmode": "overlay",
              "size": 10,
              "solidity": 0.2
             }
            },
            "type": "barpolar"
           }
          ],
          "carpet": [
           {
            "aaxis": {
             "endlinecolor": "#2a3f5f",
             "gridcolor": "white",
             "linecolor": "white",
             "minorgridcolor": "white",
             "startlinecolor": "#2a3f5f"
            },
            "baxis": {
             "endlinecolor": "#2a3f5f",
             "gridcolor": "white",
             "linecolor": "white",
             "minorgridcolor": "white",
             "startlinecolor": "#2a3f5f"
            },
            "type": "carpet"
           }
          ],
          "choropleth": [
           {
            "colorbar": {
             "outlinewidth": 0,
             "ticks": ""
            },
            "type": "choropleth"
           }
          ],
          "contour": [
           {
            "colorbar": {
             "outlinewidth": 0,
             "ticks": ""
            },
            "colorscale": [
             [
              0,
              "#0d0887"
             ],
             [
              0.1111111111111111,
              "#46039f"
             ],
             [
              0.2222222222222222,
              "#7201a8"
             ],
             [
              0.3333333333333333,
              "#9c179e"
             ],
             [
              0.4444444444444444,
              "#bd3786"
             ],
             [
              0.5555555555555556,
              "#d8576b"
             ],
             [
              0.6666666666666666,
              "#ed7953"
             ],
             [
              0.7777777777777778,
              "#fb9f3a"
             ],
             [
              0.8888888888888888,
              "#fdca26"
             ],
             [
              1,
              "#f0f921"
             ]
            ],
            "type": "contour"
           }
          ],
          "contourcarpet": [
           {
            "colorbar": {
             "outlinewidth": 0,
             "ticks": ""
            },
            "type": "contourcarpet"
           }
          ],
          "heatmap": [
           {
            "colorbar": {
             "outlinewidth": 0,
             "ticks": ""
            },
            "colorscale": [
             [
              0,
              "#0d0887"
             ],
             [
              0.1111111111111111,
              "#46039f"
             ],
             [
              0.2222222222222222,
              "#7201a8"
             ],
             [
              0.3333333333333333,
              "#9c179e"
             ],
             [
              0.4444444444444444,
              "#bd3786"
             ],
             [
              0.5555555555555556,
              "#d8576b"
             ],
             [
              0.6666666666666666,
              "#ed7953"
             ],
             [
              0.7777777777777778,
              "#fb9f3a"
             ],
             [
              0.8888888888888888,
              "#fdca26"
             ],
             [
              1,
              "#f0f921"
             ]
            ],
            "type": "heatmap"
           }
          ],
          "heatmapgl": [
           {
            "colorbar": {
             "outlinewidth": 0,
             "ticks": ""
            },
            "colorscale": [
             [
              0,
              "#0d0887"
             ],
             [
              0.1111111111111111,
              "#46039f"
             ],
             [
              0.2222222222222222,
              "#7201a8"
             ],
             [
              0.3333333333333333,
              "#9c179e"
             ],
             [
              0.4444444444444444,
              "#bd3786"
             ],
             [
              0.5555555555555556,
              "#d8576b"
             ],
             [
              0.6666666666666666,
              "#ed7953"
             ],
             [
              0.7777777777777778,
              "#fb9f3a"
             ],
             [
              0.8888888888888888,
              "#fdca26"
             ],
             [
              1,
              "#f0f921"
             ]
            ],
            "type": "heatmapgl"
           }
          ],
          "histogram": [
           {
            "marker": {
             "pattern": {
              "fillmode": "overlay",
              "size": 10,
              "solidity": 0.2
             }
            },
            "type": "histogram"
           }
          ],
          "histogram2d": [
           {
            "colorbar": {
             "outlinewidth": 0,
             "ticks": ""
            },
            "colorscale": [
             [
              0,
              "#0d0887"
             ],
             [
              0.1111111111111111,
              "#46039f"
             ],
             [
              0.2222222222222222,
              "#7201a8"
             ],
             [
              0.3333333333333333,
              "#9c179e"
             ],
             [
              0.4444444444444444,
              "#bd3786"
             ],
             [
              0.5555555555555556,
              "#d8576b"
             ],
             [
              0.6666666666666666,
              "#ed7953"
             ],
             [
              0.7777777777777778,
              "#fb9f3a"
             ],
             [
              0.8888888888888888,
              "#fdca26"
             ],
             [
              1,
              "#f0f921"
             ]
            ],
            "type": "histogram2d"
           }
          ],
          "histogram2dcontour": [
           {
            "colorbar": {
             "outlinewidth": 0,
             "ticks": ""
            },
            "colorscale": [
             [
              0,
              "#0d0887"
             ],
             [
              0.1111111111111111,
              "#46039f"
             ],
             [
              0.2222222222222222,
              "#7201a8"
             ],
             [
              0.3333333333333333,
              "#9c179e"
             ],
             [
              0.4444444444444444,
              "#bd3786"
             ],
             [
              0.5555555555555556,
              "#d8576b"
             ],
             [
              0.6666666666666666,
              "#ed7953"
             ],
             [
              0.7777777777777778,
              "#fb9f3a"
             ],
             [
              0.8888888888888888,
              "#fdca26"
             ],
             [
              1,
              "#f0f921"
             ]
            ],
            "type": "histogram2dcontour"
           }
          ],
          "mesh3d": [
           {
            "colorbar": {
             "outlinewidth": 0,
             "ticks": ""
            },
            "type": "mesh3d"
           }
          ],
          "parcoords": [
           {
            "line": {
             "colorbar": {
              "outlinewidth": 0,
              "ticks": ""
             }
            },
            "type": "parcoords"
           }
          ],
          "pie": [
           {
            "automargin": true,
            "type": "pie"
           }
          ],
          "scatter": [
           {
            "fillpattern": {
             "fillmode": "overlay",
             "size": 10,
             "solidity": 0.2
            },
            "type": "scatter"
           }
          ],
          "scatter3d": [
           {
            "line": {
             "colorbar": {
              "outlinewidth": 0,
              "ticks": ""
             }
            },
            "marker": {
             "colorbar": {
              "outlinewidth": 0,
              "ticks": ""
             }
            },
            "type": "scatter3d"
           }
          ],
          "scattercarpet": [
           {
            "marker": {
             "colorbar": {
              "outlinewidth": 0,
              "ticks": ""
             }
            },
            "type": "scattercarpet"
           }
          ],
          "scattergeo": [
           {
            "marker": {
             "colorbar": {
              "outlinewidth": 0,
              "ticks": ""
             }
            },
            "type": "scattergeo"
           }
          ],
          "scattergl": [
           {
            "marker": {
             "colorbar": {
              "outlinewidth": 0,
              "ticks": ""
             }
            },
            "type": "scattergl"
           }
          ],
          "scattermapbox": [
           {
            "marker": {
             "colorbar": {
              "outlinewidth": 0,
              "ticks": ""
             }
            },
            "type": "scattermapbox"
           }
          ],
          "scatterpolar": [
           {
            "marker": {
             "colorbar": {
              "outlinewidth": 0,
              "ticks": ""
             }
            },
            "type": "scatterpolar"
           }
          ],
          "scatterpolargl": [
           {
            "marker": {
             "colorbar": {
              "outlinewidth": 0,
              "ticks": ""
             }
            },
            "type": "scatterpolargl"
           }
          ],
          "scatterternary": [
           {
            "marker": {
             "colorbar": {
              "outlinewidth": 0,
              "ticks": ""
             }
            },
            "type": "scatterternary"
           }
          ],
          "surface": [
           {
            "colorbar": {
             "outlinewidth": 0,
             "ticks": ""
            },
            "colorscale": [
             [
              0,
              "#0d0887"
             ],
             [
              0.1111111111111111,
              "#46039f"
             ],
             [
              0.2222222222222222,
              "#7201a8"
             ],
             [
              0.3333333333333333,
              "#9c179e"
             ],
             [
              0.4444444444444444,
              "#bd3786"
             ],
             [
              0.5555555555555556,
              "#d8576b"
             ],
             [
              0.6666666666666666,
              "#ed7953"
             ],
             [
              0.7777777777777778,
              "#fb9f3a"
             ],
             [
              0.8888888888888888,
              "#fdca26"
             ],
             [
              1,
              "#f0f921"
             ]
            ],
            "type": "surface"
           }
          ],
          "table": [
           {
            "cells": {
             "fill": {
              "color": "#EBF0F8"
             },
             "line": {
              "color": "white"
             }
            },
            "header": {
             "fill": {
              "color": "#C8D4E3"
             },
             "line": {
              "color": "white"
             }
            },
            "type": "table"
           }
          ]
         },
         "layout": {
          "annotationdefaults": {
           "arrowcolor": "#2a3f5f",
           "arrowhead": 0,
           "arrowwidth": 1
          },
          "autotypenumbers": "strict",
          "coloraxis": {
           "colorbar": {
            "outlinewidth": 0,
            "ticks": ""
           }
          },
          "colorscale": {
           "diverging": [
            [
             0,
             "#8e0152"
            ],
            [
             0.1,
             "#c51b7d"
            ],
            [
             0.2,
             "#de77ae"
            ],
            [
             0.3,
             "#f1b6da"
            ],
            [
             0.4,
             "#fde0ef"
            ],
            [
             0.5,
             "#f7f7f7"
            ],
            [
             0.6,
             "#e6f5d0"
            ],
            [
             0.7,
             "#b8e186"
            ],
            [
             0.8,
             "#7fbc41"
            ],
            [
             0.9,
             "#4d9221"
            ],
            [
             1,
             "#276419"
            ]
           ],
           "sequential": [
            [
             0,
             "#0d0887"
            ],
            [
             0.1111111111111111,
             "#46039f"
            ],
            [
             0.2222222222222222,
             "#7201a8"
            ],
            [
             0.3333333333333333,
             "#9c179e"
            ],
            [
             0.4444444444444444,
             "#bd3786"
            ],
            [
             0.5555555555555556,
             "#d8576b"
            ],
            [
             0.6666666666666666,
             "#ed7953"
            ],
            [
             0.7777777777777778,
             "#fb9f3a"
            ],
            [
             0.8888888888888888,
             "#fdca26"
            ],
            [
             1,
             "#f0f921"
            ]
           ],
           "sequentialminus": [
            [
             0,
             "#0d0887"
            ],
            [
             0.1111111111111111,
             "#46039f"
            ],
            [
             0.2222222222222222,
             "#7201a8"
            ],
            [
             0.3333333333333333,
             "#9c179e"
            ],
            [
             0.4444444444444444,
             "#bd3786"
            ],
            [
             0.5555555555555556,
             "#d8576b"
            ],
            [
             0.6666666666666666,
             "#ed7953"
            ],
            [
             0.7777777777777778,
             "#fb9f3a"
            ],
            [
             0.8888888888888888,
             "#fdca26"
            ],
            [
             1,
             "#f0f921"
            ]
           ]
          },
          "colorway": [
           "#636efa",
           "#EF553B",
           "#00cc96",
           "#ab63fa",
           "#FFA15A",
           "#19d3f3",
           "#FF6692",
           "#B6E880",
           "#FF97FF",
           "#FECB52"
          ],
          "font": {
           "color": "#2a3f5f"
          },
          "geo": {
           "bgcolor": "white",
           "lakecolor": "white",
           "landcolor": "#E5ECF6",
           "showlakes": true,
           "showland": true,
           "subunitcolor": "white"
          },
          "hoverlabel": {
           "align": "left"
          },
          "hovermode": "closest",
          "mapbox": {
           "style": "light"
          },
          "paper_bgcolor": "white",
          "plot_bgcolor": "#E5ECF6",
          "polar": {
           "angularaxis": {
            "gridcolor": "white",
            "linecolor": "white",
            "ticks": ""
           },
           "bgcolor": "#E5ECF6",
           "radialaxis": {
            "gridcolor": "white",
            "linecolor": "white",
            "ticks": ""
           }
          },
          "scene": {
           "xaxis": {
            "backgroundcolor": "#E5ECF6",
            "gridcolor": "white",
            "gridwidth": 2,
            "linecolor": "white",
            "showbackground": true,
            "ticks": "",
            "zerolinecolor": "white"
           },
           "yaxis": {
            "backgroundcolor": "#E5ECF6",
            "gridcolor": "white",
            "gridwidth": 2,
            "linecolor": "white",
            "showbackground": true,
            "ticks": "",
            "zerolinecolor": "white"
           },
           "zaxis": {
            "backgroundcolor": "#E5ECF6",
            "gridcolor": "white",
            "gridwidth": 2,
            "linecolor": "white",
            "showbackground": true,
            "ticks": "",
            "zerolinecolor": "white"
           }
          },
          "shapedefaults": {
           "line": {
            "color": "#2a3f5f"
           }
          },
          "ternary": {
           "aaxis": {
            "gridcolor": "white",
            "linecolor": "white",
            "ticks": ""
           },
           "baxis": {
            "gridcolor": "white",
            "linecolor": "white",
            "ticks": ""
           },
           "bgcolor": "#E5ECF6",
           "caxis": {
            "gridcolor": "white",
            "linecolor": "white",
            "ticks": ""
           }
          },
          "title": {
           "x": 0.05
          },
          "xaxis": {
           "automargin": true,
           "gridcolor": "white",
           "linecolor": "white",
           "ticks": "",
           "title": {
            "standoff": 15
           },
           "zerolinecolor": "white",
           "zerolinewidth": 2
          },
          "yaxis": {
           "automargin": true,
           "gridcolor": "white",
           "linecolor": "white",
           "ticks": "",
           "title": {
            "standoff": 15
           },
           "zerolinecolor": "white",
           "zerolinewidth": 2
          }
         }
        },
        "title": {
         "text": "Contagem de Tipos de Correção"
        },
        "xaxis": {
         "anchor": "y",
         "domain": [
          0,
          1
         ],
         "title": {
          "text": "Tipos de Correção"
         }
        },
        "yaxis": {
         "anchor": "x",
         "domain": [
          0,
          1
         ],
         "title": {
          "text": "Contagem"
         }
        }
       }
      },
      "text/html": [
       "<div>                            <div id=\"91899c98-444f-4280-9d05-67e04854382b\" class=\"plotly-graph-div\" style=\"height:525px; width:100%;\"></div>            <script type=\"text/javascript\">                require([\"plotly\"], function(Plotly) {                    window.PLOTLYENV=window.PLOTLYENV || {};                                    if (document.getElementById(\"91899c98-444f-4280-9d05-67e04854382b\")) {                    Plotly.newPlot(                        \"91899c98-444f-4280-9d05-67e04854382b\",                        [{\"alignmentgroup\":\"True\",\"hovertemplate\":\"Tipos de Corre\\u00e7\\u00e3o=%{x}<br>Contagem=%{y}<extra></extra>\",\"legendgroup\":\"\",\"marker\":{\"color\":\"#636efa\",\"pattern\":{\"shape\":\"\"}},\"name\":\"\",\"offsetgroup\":\"\",\"orientation\":\"v\",\"showlegend\":false,\"textposition\":\"auto\",\"x\":[\"Inserc\\u00e3o\",\"Altern\\u00e2ncia\",\"DeletaCaracterExtra\",\"InverteCaracteres\"],\"xaxis\":\"x\",\"y\":[27,71,50,0],\"yaxis\":\"y\",\"type\":\"bar\"}],                        {\"template\":{\"data\":{\"histogram2dcontour\":[{\"type\":\"histogram2dcontour\",\"colorbar\":{\"outlinewidth\":0,\"ticks\":\"\"},\"colorscale\":[[0.0,\"#0d0887\"],[0.1111111111111111,\"#46039f\"],[0.2222222222222222,\"#7201a8\"],[0.3333333333333333,\"#9c179e\"],[0.4444444444444444,\"#bd3786\"],[0.5555555555555556,\"#d8576b\"],[0.6666666666666666,\"#ed7953\"],[0.7777777777777778,\"#fb9f3a\"],[0.8888888888888888,\"#fdca26\"],[1.0,\"#f0f921\"]]}],\"choropleth\":[{\"type\":\"choropleth\",\"colorbar\":{\"outlinewidth\":0,\"ticks\":\"\"}}],\"histogram2d\":[{\"type\":\"histogram2d\",\"colorbar\":{\"outlinewidth\":0,\"ticks\":\"\"},\"colorscale\":[[0.0,\"#0d0887\"],[0.1111111111111111,\"#46039f\"],[0.2222222222222222,\"#7201a8\"],[0.3333333333333333,\"#9c179e\"],[0.4444444444444444,\"#bd3786\"],[0.5555555555555556,\"#d8576b\"],[0.6666666666666666,\"#ed7953\"],[0.7777777777777778,\"#fb9f3a\"],[0.8888888888888888,\"#fdca26\"],[1.0,\"#f0f921\"]]}],\"heatmap\":[{\"type\":\"heatmap\",\"colorbar\":{\"outlinewidth\":0,\"ticks\":\"\"},\"colorscale\":[[0.0,\"#0d0887\"],[0.1111111111111111,\"#46039f\"],[0.2222222222222222,\"#7201a8\"],[0.3333333333333333,\"#9c179e\"],[0.4444444444444444,\"#bd3786\"],[0.5555555555555556,\"#d8576b\"],[0.6666666666666666,\"#ed7953\"],[0.7777777777777778,\"#fb9f3a\"],[0.8888888888888888,\"#fdca26\"],[1.0,\"#f0f921\"]]}],\"heatmapgl\":[{\"type\":\"heatmapgl\",\"colorbar\":{\"outlinewidth\":0,\"ticks\":\"\"},\"colorscale\":[[0.0,\"#0d0887\"],[0.1111111111111111,\"#46039f\"],[0.2222222222222222,\"#7201a8\"],[0.3333333333333333,\"#9c179e\"],[0.4444444444444444,\"#bd3786\"],[0.5555555555555556,\"#d8576b\"],[0.6666666666666666,\"#ed7953\"],[0.7777777777777778,\"#fb9f3a\"],[0.8888888888888888,\"#fdca26\"],[1.0,\"#f0f921\"]]}],\"contourcarpet\":[{\"type\":\"contourcarpet\",\"colorbar\":{\"outlinewidth\":0,\"ticks\":\"\"}}],\"contour\":[{\"type\":\"contour\",\"colorbar\":{\"outlinewidth\":0,\"ticks\":\"\"},\"colorscale\":[[0.0,\"#0d0887\"],[0.1111111111111111,\"#46039f\"],[0.2222222222222222,\"#7201a8\"],[0.3333333333333333,\"#9c179e\"],[0.4444444444444444,\"#bd3786\"],[0.5555555555555556,\"#d8576b\"],[0.6666666666666666,\"#ed7953\"],[0.7777777777777778,\"#fb9f3a\"],[0.8888888888888888,\"#fdca26\"],[1.0,\"#f0f921\"]]}],\"surface\":[{\"type\":\"surface\",\"colorbar\":{\"outlinewidth\":0,\"ticks\":\"\"},\"colorscale\":[[0.0,\"#0d0887\"],[0.1111111111111111,\"#46039f\"],[0.2222222222222222,\"#7201a8\"],[0.3333333333333333,\"#9c179e\"],[0.4444444444444444,\"#bd3786\"],[0.5555555555555556,\"#d8576b\"],[0.6666666666666666,\"#ed7953\"],[0.7777777777777778,\"#fb9f3a\"],[0.8888888888888888,\"#fdca26\"],[1.0,\"#f0f921\"]]}],\"mesh3d\":[{\"type\":\"mesh3d\",\"colorbar\":{\"outlinewidth\":0,\"ticks\":\"\"}}],\"scatter\":[{\"fillpattern\":{\"fillmode\":\"overlay\",\"size\":10,\"solidity\":0.2},\"type\":\"scatter\"}],\"parcoords\":[{\"type\":\"parcoords\",\"line\":{\"colorbar\":{\"outlinewidth\":0,\"ticks\":\"\"}}}],\"scatterpolargl\":[{\"type\":\"scatterpolargl\",\"marker\":{\"colorbar\":{\"outlinewidth\":0,\"ticks\":\"\"}}}],\"bar\":[{\"error_x\":{\"color\":\"#2a3f5f\"},\"error_y\":{\"color\":\"#2a3f5f\"},\"marker\":{\"line\":{\"color\":\"#E5ECF6\",\"width\":0.5},\"pattern\":{\"fillmode\":\"overlay\",\"size\":10,\"solidity\":0.2}},\"type\":\"bar\"}],\"scattergeo\":[{\"type\":\"scattergeo\",\"marker\":{\"colorbar\":{\"outlinewidth\":0,\"ticks\":\"\"}}}],\"scatterpolar\":[{\"type\":\"scatterpolar\",\"marker\":{\"colorbar\":{\"outlinewidth\":0,\"ticks\":\"\"}}}],\"histogram\":[{\"marker\":{\"pattern\":{\"fillmode\":\"overlay\",\"size\":10,\"solidity\":0.2}},\"type\":\"histogram\"}],\"scattergl\":[{\"type\":\"scattergl\",\"marker\":{\"colorbar\":{\"outlinewidth\":0,\"ticks\":\"\"}}}],\"scatter3d\":[{\"type\":\"scatter3d\",\"line\":{\"colorbar\":{\"outlinewidth\":0,\"ticks\":\"\"}},\"marker\":{\"colorbar\":{\"outlinewidth\":0,\"ticks\":\"\"}}}],\"scattermapbox\":[{\"type\":\"scattermapbox\",\"marker\":{\"colorbar\":{\"outlinewidth\":0,\"ticks\":\"\"}}}],\"scatterternary\":[{\"type\":\"scatterternary\",\"marker\":{\"colorbar\":{\"outlinewidth\":0,\"ticks\":\"\"}}}],\"scattercarpet\":[{\"type\":\"scattercarpet\",\"marker\":{\"colorbar\":{\"outlinewidth\":0,\"ticks\":\"\"}}}],\"carpet\":[{\"aaxis\":{\"endlinecolor\":\"#2a3f5f\",\"gridcolor\":\"white\",\"linecolor\":\"white\",\"minorgridcolor\":\"white\",\"startlinecolor\":\"#2a3f5f\"},\"baxis\":{\"endlinecolor\":\"#2a3f5f\",\"gridcolor\":\"white\",\"linecolor\":\"white\",\"minorgridcolor\":\"white\",\"startlinecolor\":\"#2a3f5f\"},\"type\":\"carpet\"}],\"table\":[{\"cells\":{\"fill\":{\"color\":\"#EBF0F8\"},\"line\":{\"color\":\"white\"}},\"header\":{\"fill\":{\"color\":\"#C8D4E3\"},\"line\":{\"color\":\"white\"}},\"type\":\"table\"}],\"barpolar\":[{\"marker\":{\"line\":{\"color\":\"#E5ECF6\",\"width\":0.5},\"pattern\":{\"fillmode\":\"overlay\",\"size\":10,\"solidity\":0.2}},\"type\":\"barpolar\"}],\"pie\":[{\"automargin\":true,\"type\":\"pie\"}]},\"layout\":{\"autotypenumbers\":\"strict\",\"colorway\":[\"#636efa\",\"#EF553B\",\"#00cc96\",\"#ab63fa\",\"#FFA15A\",\"#19d3f3\",\"#FF6692\",\"#B6E880\",\"#FF97FF\",\"#FECB52\"],\"font\":{\"color\":\"#2a3f5f\"},\"hovermode\":\"closest\",\"hoverlabel\":{\"align\":\"left\"},\"paper_bgcolor\":\"white\",\"plot_bgcolor\":\"#E5ECF6\",\"polar\":{\"bgcolor\":\"#E5ECF6\",\"angularaxis\":{\"gridcolor\":\"white\",\"linecolor\":\"white\",\"ticks\":\"\"},\"radialaxis\":{\"gridcolor\":\"white\",\"linecolor\":\"white\",\"ticks\":\"\"}},\"ternary\":{\"bgcolor\":\"#E5ECF6\",\"aaxis\":{\"gridcolor\":\"white\",\"linecolor\":\"white\",\"ticks\":\"\"},\"baxis\":{\"gridcolor\":\"white\",\"linecolor\":\"white\",\"ticks\":\"\"},\"caxis\":{\"gridcolor\":\"white\",\"linecolor\":\"white\",\"ticks\":\"\"}},\"coloraxis\":{\"colorbar\":{\"outlinewidth\":0,\"ticks\":\"\"}},\"colorscale\":{\"sequential\":[[0.0,\"#0d0887\"],[0.1111111111111111,\"#46039f\"],[0.2222222222222222,\"#7201a8\"],[0.3333333333333333,\"#9c179e\"],[0.4444444444444444,\"#bd3786\"],[0.5555555555555556,\"#d8576b\"],[0.6666666666666666,\"#ed7953\"],[0.7777777777777778,\"#fb9f3a\"],[0.8888888888888888,\"#fdca26\"],[1.0,\"#f0f921\"]],\"sequentialminus\":[[0.0,\"#0d0887\"],[0.1111111111111111,\"#46039f\"],[0.2222222222222222,\"#7201a8\"],[0.3333333333333333,\"#9c179e\"],[0.4444444444444444,\"#bd3786\"],[0.5555555555555556,\"#d8576b\"],[0.6666666666666666,\"#ed7953\"],[0.7777777777777778,\"#fb9f3a\"],[0.8888888888888888,\"#fdca26\"],[1.0,\"#f0f921\"]],\"diverging\":[[0,\"#8e0152\"],[0.1,\"#c51b7d\"],[0.2,\"#de77ae\"],[0.3,\"#f1b6da\"],[0.4,\"#fde0ef\"],[0.5,\"#f7f7f7\"],[0.6,\"#e6f5d0\"],[0.7,\"#b8e186\"],[0.8,\"#7fbc41\"],[0.9,\"#4d9221\"],[1,\"#276419\"]]},\"xaxis\":{\"gridcolor\":\"white\",\"linecolor\":\"white\",\"ticks\":\"\",\"title\":{\"standoff\":15},\"zerolinecolor\":\"white\",\"automargin\":true,\"zerolinewidth\":2},\"yaxis\":{\"gridcolor\":\"white\",\"linecolor\":\"white\",\"ticks\":\"\",\"title\":{\"standoff\":15},\"zerolinecolor\":\"white\",\"automargin\":true,\"zerolinewidth\":2},\"scene\":{\"xaxis\":{\"backgroundcolor\":\"#E5ECF6\",\"gridcolor\":\"white\",\"linecolor\":\"white\",\"showbackground\":true,\"ticks\":\"\",\"zerolinecolor\":\"white\",\"gridwidth\":2},\"yaxis\":{\"backgroundcolor\":\"#E5ECF6\",\"gridcolor\":\"white\",\"linecolor\":\"white\",\"showbackground\":true,\"ticks\":\"\",\"zerolinecolor\":\"white\",\"gridwidth\":2},\"zaxis\":{\"backgroundcolor\":\"#E5ECF6\",\"gridcolor\":\"white\",\"linecolor\":\"white\",\"showbackground\":true,\"ticks\":\"\",\"zerolinecolor\":\"white\",\"gridwidth\":2}},\"shapedefaults\":{\"line\":{\"color\":\"#2a3f5f\"}},\"annotationdefaults\":{\"arrowcolor\":\"#2a3f5f\",\"arrowhead\":0,\"arrowwidth\":1},\"geo\":{\"bgcolor\":\"white\",\"landcolor\":\"#E5ECF6\",\"subunitcolor\":\"white\",\"showland\":true,\"showlakes\":true,\"lakecolor\":\"white\"},\"title\":{\"x\":0.05},\"mapbox\":{\"style\":\"light\"}}},\"xaxis\":{\"anchor\":\"y\",\"domain\":[0.0,1.0],\"title\":{\"text\":\"Tipos de Corre\\u00e7\\u00e3o\"}},\"yaxis\":{\"anchor\":\"x\",\"domain\":[0.0,1.0],\"title\":{\"text\":\"Contagem\"}},\"legend\":{\"tracegroupgap\":0},\"title\":{\"text\":\"Contagem de Tipos de Corre\\u00e7\\u00e3o\"},\"barmode\":\"relative\"},                        {\"responsive\": true}                    ).then(function(){\n",
       "                            \n",
       "var gd = document.getElementById('91899c98-444f-4280-9d05-67e04854382b');\n",
       "var x = new MutationObserver(function (mutations, observer) {{\n",
       "        var display = window.getComputedStyle(gd).display;\n",
       "        if (!display || display === 'none') {{\n",
       "            console.log([gd, 'removed!']);\n",
       "            Plotly.purge(gd);\n",
       "            observer.disconnect();\n",
       "        }}\n",
       "}});\n",
       "\n",
       "// Listen for the removal of the full notebook cells\n",
       "var notebookContainer = gd.closest('#notebook-container');\n",
       "if (notebookContainer) {{\n",
       "    x.observe(notebookContainer, {childList: true});\n",
       "}}\n",
       "\n",
       "// Listen for the clearing of the current output cell\n",
       "var outputEl = gd.closest('.output');\n",
       "if (outputEl) {{\n",
       "    x.observe(outputEl, {childList: true});\n",
       "}}\n",
       "\n",
       "                        })                };                });            </script>        </div>"
      ]
     },
     "metadata": {},
     "output_type": "display_data"
    }
   ],
   "source": [
    "# Criando um gráfico de barras:\n",
    "fig = px.bar(\n",
    "    x=list(contador_correcoes.keys()),\n",
    "    y=list(contador_correcoes.values()),\n",
    "    labels={'x': 'Tipos de Correção', 'y': 'Contagem'},\n",
    "    title='Contagem de Tipos de Correção'\n",
    ")\n",
    "\n",
    "fig.show()"
   ]
  },
  {
   "cell_type": "code",
   "execution_count": null,
   "id": "557818cf",
   "metadata": {},
   "outputs": [],
   "source": []
  }
 ],
 "metadata": {
  "kernelspec": {
   "display_name": "Python 3 (ipykernel)",
   "language": "python",
   "name": "python3"
  },
  "language_info": {
   "codemirror_mode": {
    "name": "ipython",
    "version": 3
   },
   "file_extension": ".py",
   "mimetype": "text/x-python",
   "name": "python",
   "nbconvert_exporter": "python",
   "pygments_lexer": "ipython3",
   "version": "3.10.9"
  }
 },
 "nbformat": 4,
 "nbformat_minor": 5
}
