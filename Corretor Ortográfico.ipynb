{
 "cells": [
  {
   "cell_type": "markdown",
   "id": "2dd55bdc",
   "metadata": {},
   "source": [
    "# Criando um corretor ortográfico"
   ]
  },
  {
   "cell_type": "markdown",
   "id": "86eb7675",
   "metadata": {},
   "source": [
    "### Importando as bibliotecas:"
   ]
  },
  {
   "cell_type": "code",
   "execution_count": 1,
   "id": "2149fb6f",
   "metadata": {},
   "outputs": [
    {
     "name": "stderr",
     "output_type": "stream",
     "text": [
      "[nltk_data] Downloading package punkt to\n",
      "[nltk_data]     /Users/rafaelmaacario/nltk_data...\n",
      "[nltk_data]   Package punkt is already up-to-date!\n"
     ]
    },
    {
     "data": {
      "text/plain": [
       "True"
      ]
     },
     "execution_count": 1,
     "metadata": {},
     "output_type": "execute_result"
    }
   ],
   "source": [
    "import pandas as pd\n",
    "import nltk\n",
    "nltk.download('punkt')"
   ]
  },
  {
   "cell_type": "markdown",
   "id": "64b8fb52",
   "metadata": {},
   "source": [
    "## 1. Dados de treinamento"
   ]
  },
  {
   "cell_type": "markdown",
   "id": "e40b7684",
   "metadata": {},
   "source": [
    "### 1.1 Leitura do corpus de artigos da Alura:  "
   ]
  },
  {
   "cell_type": "code",
   "execution_count": 2,
   "id": "4225e748",
   "metadata": {},
   "outputs": [
    {
     "data": {
      "text/plain": [
       "'\\n\\n\\nimagem \\n\\nTemos a seguinte classe que representa um usuário no nosso sistema:\\n\\njava\\n\\nPara salvar um novo usuário, várias validações são feitas, como por exemplo: Ver se o nome só contém letras, [**o CPF só números**] e ver se o usuário possui no mínimo 18 anos. Veja o método que faz essa validação:\\n\\njava \\n\\nSuponha agora que eu tenha outra classe, a classe `Produto`, que contém um atributo nome e eu quero fazer a mesma validação que fiz para o nome do usuário: Ver se só contém letras. E aí? Vou'"
      ]
     },
     "execution_count": 2,
     "metadata": {},
     "output_type": "execute_result"
    }
   ],
   "source": [
    "file_path = \"/Users/rafaelmaacario/Corretor Ortográfico em Python/corretor-master/artigos.txt\"\n",
    "\n",
    "with open(file_path, \"r\") as file:\n",
    "    corpus = file.read()\n",
    "\n",
    "corpus[:500]"
   ]
  },
  {
   "cell_type": "markdown",
   "id": "d324e33e",
   "metadata": {},
   "source": [
    "### 1.2 Limpeza dos dados: "
   ]
  },
  {
   "cell_type": "code",
   "execution_count": 3,
   "id": "18be6284",
   "metadata": {},
   "outputs": [],
   "source": [
    "def tokenize(text):\n",
    "    list_tokens = nltk.word_tokenize(text)\n",
    "    return list_tokens\n",
    "\n",
    "def lista_palavras(list_tokens):\n",
    "    lista_palavras = [token.lower() for token in list_tokens if token.isalpha()]\n",
    "    return lista_palavras"
   ]
  },
  {
   "cell_type": "code",
   "execution_count": 4,
   "id": "7013778d",
   "metadata": {},
   "outputs": [
    {
     "name": "stdout",
     "output_type": "stream",
     "text": [
      "['imagem', 'temos', 'a', 'seguinte', 'classe', 'que', 'representa', 'um', 'usuário', 'no', 'nosso', 'sistema', 'java', 'para', 'salvar', 'um', 'novo', 'usuário', 'várias', 'validações', 'são', 'feitas', 'como', 'por', 'exemplo', 'ver', 'se', 'o', 'nome', 'só', 'contém', 'letras', 'o', 'cpf', 'só', 'números', 'e', 'ver', 'se', 'o', 'usuário', 'possui', 'no', 'mínimo', 'anos', 'veja', 'o', 'método', 'que', 'faz']\n"
     ]
    }
   ],
   "source": [
    "lista_palavras = lista_palavras(tokenize(corpus))\n",
    "print(lista_palavras[:50])"
   ]
  },
  {
   "cell_type": "code",
   "execution_count": 5,
   "id": "ad8df07d",
   "metadata": {},
   "outputs": [
    {
     "data": {
      "text/plain": [
       "[('de', 15502),\n",
       " ('o', 14056),\n",
       " ('que', 12230),\n",
       " ('a', 11099),\n",
       " ('e', 10501),\n",
       " ('para', 7710),\n",
       " ('um', 6367),\n",
       " ('é', 5899),\n",
       " ('uma', 5220),\n",
       " ('do', 5124)]"
      ]
     },
     "execution_count": 5,
     "metadata": {},
     "output_type": "execute_result"
    }
   ],
   "source": [
    "frequencia_palavras_corpus = nltk.FreqDist(lista_palavras)\n",
    "frequencia_palavras_corpus.most_common(10)"
   ]
  },
  {
   "cell_type": "code",
   "execution_count": 6,
   "id": "7aa4d7fb",
   "metadata": {},
   "outputs": [
    {
     "data": {
      "text/plain": [
       "403031"
      ]
     },
     "execution_count": 6,
     "metadata": {},
     "output_type": "execute_result"
    }
   ],
   "source": [
    "total_palavras = len(lista_palavras)\n",
    "total_palavras"
   ]
  },
  {
   "cell_type": "code",
   "execution_count": 7,
   "id": "cffcec50",
   "metadata": {},
   "outputs": [
    {
     "data": {
      "text/plain": [
       "18464"
      ]
     },
     "execution_count": 7,
     "metadata": {},
     "output_type": "execute_result"
    }
   ],
   "source": [
    "# Vocabulário real do corpus:\n",
    "    \n",
    "vocabulário = set(lista_palavras)\n",
    "len(vocabulário)"
   ]
  },
  {
   "cell_type": "markdown",
   "id": "782c8477",
   "metadata": {},
   "source": [
    "## 2. Funções de correção"
   ]
  },
  {
   "cell_type": "markdown",
   "id": "a1593020",
   "metadata": {},
   "source": [
    "### 2.1. Corrigindo erros por operações de inserção:"
   ]
  },
  {
   "cell_type": "raw",
   "id": "caf65a4a",
   "metadata": {},
   "source": [
    "Ex. Usuário esquece de digitar uma letra. "
   ]
  },
  {
   "cell_type": "code",
   "execution_count": 113,
   "id": "a51a2dd9",
   "metadata": {},
   "outputs": [
    {
     "data": {
      "text/plain": [
       "('c', 'mpo')"
      ]
     },
     "execution_count": 113,
     "metadata": {},
     "output_type": "execute_result"
    }
   ],
   "source": [
    "palavra = 'cmpo'\n",
    "\n",
    "(palavra[:1], palavra[1:])"
   ]
  },
  {
   "cell_type": "code",
   "execution_count": 114,
   "id": "71d2f627",
   "metadata": {},
   "outputs": [],
   "source": [
    "def corretor_por_insercao(palavra):\n",
    "    \n",
    "    # Dividir a palavra em tuplas:\n",
    "    tuplas = [(palavra[:i], palavra[i:]) for i in range(len(palavra) + 1)]\n",
    "        \n",
    "    # Inserir letras dentro das tuplas:\n",
    "    letras = 'abcdefghijklmnopqrstuvwxyzàáâãèéêìíîòóôõùúûç'\n",
    "    novas_palavras = [tupla_esq + letra + tupla_dir for tupla_esq, tupla_dir in tuplas for letra in letras]\n",
    "    \n",
    "    # Calcular a probabilidade de cada palavra gerada com base na lista de palavras do corpus:\n",
    "    probabilidade_palavras = [frequencia_palavras_corpus[palavra_gerada] / total_palavras for palavra_gerada in novas_palavras]\n",
    "    \n",
    "    # Encontrar a palavra correta de maior probabilidade:\n",
    "    palavra_correta = max(zip(novas_palavras, probabilidade_palavras), key=lambda x: x[1])[0]\n",
    "    \n",
    "    return [palavra_correta]"
   ]
  },
  {
   "cell_type": "code",
   "execution_count": 115,
   "id": "f8a4e5a7",
   "metadata": {},
   "outputs": [
    {
     "data": {
      "text/plain": [
       "['lógica']"
      ]
     },
     "execution_count": 115,
     "metadata": {},
     "output_type": "execute_result"
    }
   ],
   "source": [
    "corretor_por_insercao('lgica')"
   ]
  },
  {
   "cell_type": "markdown",
   "id": "32d13c5d",
   "metadata": {},
   "source": [
    "### 2.2. Corrigindo erros por operações de alternância de um termo: "
   ]
  },
  {
   "cell_type": "raw",
   "id": "1a0c498e",
   "metadata": {},
   "source": [
    "Ex: Usuário digita uma letra errada ou esquece um acento."
   ]
  },
  {
   "cell_type": "code",
   "execution_count": 116,
   "id": "7366735d",
   "metadata": {},
   "outputs": [],
   "source": [
    "def corretor_por_alterancia(palavra):\n",
    "    \n",
    "    # Dividir a palavra em tuplas removendo o primeiro caractere após a divisão:\n",
    "    tuplas = [(palavra[:i], palavra[i+1:]) for i in range(len(palavra) + 1)]\n",
    "    \n",
    "    # Inserir letras dentro das tuplas:\n",
    "    letras = 'abcdefghijklmnopqrstuvwxyzàáâãèéêìíîòóôõùúûç'\n",
    "    novas_palavras = [tupla_esq + letra + tupla_dir for tupla_esq, tupla_dir in tuplas for letra in letras]\n",
    "    \n",
    "    # Calcular a probabilidade de cada palavra gerada com base na lista de palavras do corpus:\n",
    "    probabilidade_palavras = [frequencia_palavras_corpus[palavra_gerada] / total_palavras for palavra_gerada in novas_palavras]\n",
    "    \n",
    "    # Encontrar a palavra correta de maior probabilidade:\n",
    "    palavra_correta = max(zip(novas_palavras, probabilidade_palavras), key=lambda x: x[1])[0]\n",
    "    \n",
    "    return [palavra_correta] "
   ]
  },
  {
   "cell_type": "code",
   "execution_count": 117,
   "id": "2a055c80",
   "metadata": {},
   "outputs": [
    {
     "data": {
      "text/plain": [
       "['lógica']"
      ]
     },
     "execution_count": 117,
     "metadata": {},
     "output_type": "execute_result"
    }
   ],
   "source": [
    "corretor_por_alterancia('lígica')"
   ]
  },
  {
   "cell_type": "markdown",
   "id": "d6c1eb3b",
   "metadata": {},
   "source": [
    "###  2.3. Corrigindo erros por operações que deletam até dois caracteres extras seguidos: "
   ]
  },
  {
   "cell_type": "raw",
   "id": "bb99f18b",
   "metadata": {},
   "source": [
    "Ex: Usuário digita uma letra por engano. "
   ]
  },
  {
   "cell_type": "code",
   "execution_count": 132,
   "id": "0bf4dea0",
   "metadata": {},
   "outputs": [],
   "source": [
    "def corretor_deleta_caracter_extra(palavra):\n",
    "    # Dividir a palavra em tuplas removendo o primeiro caracter após a divisão:\n",
    "    tuplas = [(palavra[:i], palavra[i+1:]) for i in range(len(palavra) + 1)]\n",
    "    \n",
    "    # Juntar a tupla\n",
    "    novas_palavras = [tupla_esq + tupla_dir for tupla_esq, tupla_dir in tuplas]\n",
    "    \n",
    "    # Calcular a probabilidade de cada palavra gerada com base na lista de ocorrência de palavras do corpus:\n",
    "    probabilidade_palavras = [frequencia_palavras_corpus[palavra_gerada] / total_palavras for palavra_gerada in novas_palavras]\n",
    "    \n",
    "    # Encontrar a palavra correta de maior probabilidade:\n",
    "    palavra_correta = max(zip(novas_palavras, probabilidade_palavras), key=lambda x: x[1])[0]\n",
    "    \n",
    "    return [palavra_correta] "
   ]
  },
  {
   "cell_type": "code",
   "execution_count": 135,
   "id": "61418685",
   "metadata": {},
   "outputs": [],
   "source": [
    "palavra = 'lóigica'"
   ]
  },
  {
   "cell_type": "code",
   "execution_count": 136,
   "id": "547824de",
   "metadata": {},
   "outputs": [
    {
     "data": {
      "text/plain": [
       "['lógica']"
      ]
     },
     "execution_count": 136,
     "metadata": {},
     "output_type": "execute_result"
    }
   ],
   "source": [
    "corretor_deleta_caracter_extra(palavra)"
   ]
  },
  {
   "cell_type": "code",
   "execution_count": 152,
   "id": "b030350d",
   "metadata": {},
   "outputs": [],
   "source": [
    "def corretor_deleta_dois_caracteres_extras_seguidos(palavra):\n",
    "    iteracao = 0\n",
    "    while True:\n",
    "        # Dividir a palavra em tuplas removendo até dois caracteres após a divisão:\n",
    "        tuplas = [(palavra[:i], palavra[i+min(iteracao, 2):]) for i in range(len(palavra) + 1)]\n",
    "\n",
    "        # Juntar as tuplas\n",
    "        novas_palavras = [tupla_esq + tupla_dir for tupla_esq, tupla_dir in tuplas]\n",
    "\n",
    "        # Encontrar candidatas a palavra correta:\n",
    "        candidatas = [palavra_gerada for palavra_gerada in novas_palavras]\n",
    "\n",
    "        if any(candidata in vocabulário for candidata in candidatas):\n",
    "            # Calcular a probabilidade apenas para as palavras no vocabulário:\n",
    "            probabilidade_palavras = [frequencia_palavras_corpus.get(palavra_gerada, 0) / total_palavras for palavra_gerada in candidatas]\n",
    "\n",
    "            # Encontrar a palavra correta de maior probabilidade:\n",
    "            palavra_correta = max(zip(candidatas, probabilidade_palavras), key=lambda x: x[1])[0]\n",
    "\n",
    "            return [palavra_correta]\n",
    "\n",
    "        iteracao += 1"
   ]
  },
  {
   "cell_type": "code",
   "execution_count": 153,
   "id": "16fc35a9",
   "metadata": {},
   "outputs": [
    {
     "data": {
      "text/plain": [
       "['dos']"
      ]
     },
     "execution_count": 153,
     "metadata": {},
     "output_type": "execute_result"
    }
   ],
   "source": [
    "corretor_deleta_dois_caracteres_extras_seguidos('dosss')"
   ]
  },
  {
   "cell_type": "code",
   "execution_count": 154,
   "id": "38ad7375",
   "metadata": {},
   "outputs": [
    {
     "data": {
      "text/plain": [
       "['dos']"
      ]
     },
     "execution_count": 154,
     "metadata": {},
     "output_type": "execute_result"
    }
   ],
   "source": [
    "corretor_deleta_dois_caracteres_extras_seguidos('dooos')"
   ]
  },
  {
   "cell_type": "markdown",
   "id": "35e6475d",
   "metadata": {},
   "source": [
    "###  2.4. Corrigindo erros por operações que invertem a ordem de dois caracteres: "
   ]
  },
  {
   "cell_type": "raw",
   "id": "57cb0ff1",
   "metadata": {},
   "source": [
    "Ex: Usuário digita a órdem de carcteres errado.  "
   ]
  },
  {
   "cell_type": "code",
   "execution_count": 122,
   "id": "5e06fdce",
   "metadata": {},
   "outputs": [],
   "source": [
    "def corretor_inverte_caracteres(palavra):\n",
    "    # Dividir a palavra em tuplas:\n",
    "    tuplas = [(palavra[:i], palavra[i:]) for i in range(len(palavra) + 1)]\n",
    "    \n",
    "    # Inserir letras dentro das tuplas:\n",
    "    novas_palavras = [tupla_esq + (tupla_dir[1] + tupla_dir[0] + tupla_dir[2:] if tupla_dir and len(tupla_dir) > 1 else '') for tupla_esq, tupla_dir in tuplas]\n",
    "\n",
    "    # Calcular a probabilidade de cada palavra gerada com base na lista de palavras do corpus:\n",
    "    probabilidade_palavras = [frequencia_palavras_corpus[palavra_gerada] / total_palavras for palavra_gerada in novas_palavras]\n",
    "    \n",
    "    # Encontrar a palavra correta de maior probabilidade:\n",
    "    palavra_correta = max(zip(novas_palavras, probabilidade_palavras), key=lambda x: x[1])[0]  \n",
    "    \n",
    "    return palavra_correta"
   ]
  },
  {
   "cell_type": "code",
   "execution_count": 123,
   "id": "b99fc0f1",
   "metadata": {},
   "outputs": [
    {
     "data": {
      "text/plain": [
       "'lógica'"
      ]
     },
     "execution_count": 123,
     "metadata": {},
     "output_type": "execute_result"
    }
   ],
   "source": [
    "corretor_inverte_caracteres('lgóica')"
   ]
  },
  {
   "cell_type": "markdown",
   "id": "f80a643a",
   "metadata": {},
   "source": [
    "## 3. Dados para teste "
   ]
  },
  {
   "cell_type": "code",
   "execution_count": 124,
   "id": "458274c4",
   "metadata": {},
   "outputs": [
    {
     "data": {
      "text/plain": [
       "[('podemos', 'pyodemos'),\n",
       " ('esse', 'esje'),\n",
       " ('já', 'jrá'),\n",
       " ('nosso', 'nossov'),\n",
       " ('são', 'sãêo'),\n",
       " ('dos', 'dosa'),\n",
       " ('muito', 'muifo'),\n",
       " ('imagem', 'iômagem'),\n",
       " ('sua', 'ósua'),\n",
       " ('também', 'tambéùm'),\n",
       " ('ele', 'eme'),\n",
       " ('fazer', 'èazer'),\n",
       " ('temos', 'temfs'),\n",
       " ('essa', 'eàssa'),\n",
       " ('quando', 'quaôdo'),\n",
       " ('vamos', 'vamvos'),\n",
       " ('sobre', 'hsobre'),\n",
       " ('java', 'sjava'),\n",
       " ('das', 'daõs'),\n",
       " ('agora', 'agorah')]"
      ]
     },
     "execution_count": 124,
     "metadata": {},
     "output_type": "execute_result"
    }
   ],
   "source": [
    "test_path = \"/Users/rafaelmaacario/Corretor Ortográfico em Python/corretor-master/palavras.txt\"\n",
    "\n",
    "with open(test_path, \"r\") as f:\n",
    "    lista_palavras_teste = [tuple(linha.split()) for linha in f]\n",
    "\n",
    "f.close()\n",
    "lista_palavras_teste[:20]"
   ]
  },
  {
   "cell_type": "markdown",
   "id": "a7dd540d",
   "metadata": {},
   "source": [
    "### 3.1 Função de avaliação do corretor: "
   ]
  },
  {
   "cell_type": "code",
   "execution_count": 137,
   "id": "2ea960ea",
   "metadata": {},
   "outputs": [],
   "source": [
    "def avaliador(lista_palavras_teste, vocabulario):\n",
    "    numero_palavras = len(lista_palavras_teste)\n",
    "    acertos = 0\n",
    "    desconhecidas = 0\n",
    "\n",
    "    for certa, errada in lista_palavras_teste:\n",
    "\n",
    "        palavra_corrigida = []\n",
    "        palavra_corrigida.extend(corretor_por_insercao(errada))\n",
    "        palavra_corrigida.extend(corretor_por_alterancia(errada))\n",
    "        palavra_corrigida.extend(corretor_deleta_caracter_extra(errada))\n",
    "        palavra_corrigida.extend(corretor_inverte_caracteres(errada))\n",
    "        \n",
    "        \n",
    "        if certa in palavra_corrigida:\n",
    "            acertos += 1\n",
    "        elif certa not in vocabulario:\n",
    "            desconhecidas +=1 \n",
    "\n",
    "    taxa_acertos = round(acertos * 100 / numero_palavras, 2)\n",
    "    taxa_desconhecida = round(desconhecidas * 100 / numero_palavras, 2)\n",
    "\n",
    "    return print(f\"{taxa_acertos}% de {numero_palavras} palavras.\\n {taxa_desconhecida}% de {numero_palavras} palavras.\")"
   ]
  },
  {
   "cell_type": "code",
   "execution_count": 138,
   "id": "4df3e7b6",
   "metadata": {},
   "outputs": [
    {
     "name": "stdout",
     "output_type": "stream",
     "text": [
      "79.57% de 186 palavras.\n",
      " 6.99% de 186 palavras.\n"
     ]
    }
   ],
   "source": [
    "avaliador(lista_palavras_teste, vocabulário)"
   ]
  }
 ],
 "metadata": {
  "kernelspec": {
   "display_name": "Python 3 (ipykernel)",
   "language": "python",
   "name": "python3"
  },
  "language_info": {
   "codemirror_mode": {
    "name": "ipython",
    "version": 3
   },
   "file_extension": ".py",
   "mimetype": "text/x-python",
   "name": "python",
   "nbconvert_exporter": "python",
   "pygments_lexer": "ipython3",
   "version": "3.10.9"
  }
 },
 "nbformat": 4,
 "nbformat_minor": 5
}
